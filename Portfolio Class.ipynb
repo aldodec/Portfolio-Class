{
 "cells": [
  {
   "cell_type": "code",
   "execution_count": 1,
   "metadata": {},
   "outputs": [],
   "source": [
    "import pandas as pd\n",
    "import numpy as np\n",
    "from pandas_datareader import data as pdr\n",
    "import yfinance as yf \n",
    "yf.pdr_override() "
   ]
  },
  {
   "cell_type": "code",
   "execution_count": 24,
   "metadata": {},
   "outputs": [],
   "source": [
    "class Portfolio():\n",
    "    \n",
    "    # GENERAL CAVEATS. This class assumes that:\n",
    "    #     -The number of sold assest never exceds the number of \n",
    "    #      bought assets (i.e. I never sell what I don't own: no short-selling.)\n",
    "    #     -I never spend more than the initial cash.\n",
    "    #     -I can make multiple buys, but only one sell. Otherwise, I would have to modifiy \n",
    "    #      the computations for the Captital Gains Tax.\n",
    "    \n",
    "    \n",
    "    '''\n",
    "    Parameters\n",
    "    ===========\n",
    "    - cash: float. Initial cash position.\n",
    "    \n",
    "    Atributes\n",
    "    ===========\n",
    "    -cash: returns available cash after transactions\n",
    "    -holdings: returns a pandas DataFrame with the information of every transacition. \n",
    "    \n",
    "    Methods\n",
    "    ===========\n",
    "    - buy. Inputs: ticker (string), numShares (integer), price (real), tradeDate (string: '1900-01-30').\n",
    "           Description: buys a number of a certain stock at a given price on a given date (optional).\n",
    "           Returns: string. Description of the transaction.\n",
    "    - sell. Inputs: ticker (string), numShares (integer), price (real), tradeDate (string: '1900-01-30').\n",
    "            Description: sells a number of a certain stock at a given price on a given date (optional).\n",
    "            Returns: string. Description of the transaction.\n",
    "    - nav. Inputs: date (string: '1900-01-30').\n",
    "           Description: Computes the Net Asset Value (NAV) of the porfolio.\n",
    "           Returns: string with NAV on a given date, computed with the close price of the assets on that date. \n",
    "    - capitalGainsTax. Imputs: taxRate (float), method (string: 'Average','FIFO','LILO').\n",
    "                       Description: Computes the Capital Gain Taxes due of the portfolio after a sale. \n",
    "    '''\n",
    "    \n",
    "    def __init__(self, cash):\n",
    "        \n",
    "        # attribute 'holdings' gives us a dataframe with updated information of \n",
    "        # each transaction in the order each transaction was made. \n",
    "        \n",
    "        self.cash = cash\n",
    "        self.holdings = pd.DataFrame(columns = ['Ticker','Number','Price', 'Date']) \n",
    "           \n",
    "    def buy(self, ticker, numShares, price, date = None):\n",
    "        \n",
    "        # Method 'buy' returns a string with information of the buy transaction. \n",
    "        \n",
    "        date = pd.to_datetime(date)\n",
    "        invested = numShares*price\n",
    "        available = self.cash - invested\n",
    "        self.cash = available # We update the original cash MINUS the price we paid in the transaction. \n",
    "        self.holdings = self.holdings.append({'Ticker': ticker,'Number' : numShares,'Price': price, 'Date': date }, ignore_index=True)\n",
    "        return 'Bought {} shares of {} at price {} each. You spent {}. Remaining Cash is {}.'.format(numShares, ticker, price, invested, available)\n",
    "    \n",
    "    def sell(self, ticker, numShares, price, date = None):\n",
    "        \n",
    "        # Method 'sell' returns a string with information of the sell transaction. \n",
    "\n",
    "        date = pd.to_datetime(date)\n",
    "        gained = numShares*price\n",
    "        available = self.cash + gained # We update the original cash PLUS the gain of the sale.\n",
    "        self.cash = available\n",
    "        self.holdings = self.holdings.append({'Ticker': ticker,'Number' : -numShares,'Price': price,'Date': date }, ignore_index=True)\n",
    "        return 'Sold {} shares of {} at price {} each. You gained {}. Remaining Cash is {}.'.format(numShares, ticker,price, gained, available)\n",
    "    \n",
    "    def nav(self,date):\n",
    "        \n",
    "        # I compute 'nav' as: the sum over shares of the product of the close price of the share times the number \n",
    "        # of shares held, PLUS the available cash, all divided by the total number of shares:\n",
    "        # ( Sum_{over all shares}(number*ClosePrice) + Cash )/(total number of shares)\n",
    "        # https://www.investopedia.com/terms/n/nav.asp\n",
    "        # Market values are dowloaded from Yahoo Finance. \n",
    "        \n",
    "        names=list(set(self.holdings['Ticker']))\n",
    "        start = pd.to_datetime(date) \n",
    "        end = pd.to_datetime(date) \n",
    "        market_prices= pdr.get_data_yahoo(names, start=start, end=end, progress=False)['Close']\n",
    "        W = self.holdings['Number'].sum()\n",
    "        S = 0\n",
    "        for i in names: \n",
    "            S += self.holdings[self.holdings['Ticker'] == i]['Number'].sum()*market_prices[i][0]\n",
    "        return 'NAV at date {} is {} per share.'.format(date, round((S+self.cash)/W,3))   \n",
    "    \n",
    "    def capitalGainsTax(self,taxRate, method):\n",
    "        \n",
    "        # This method computes the Capital Gain Taxes due of the portfolio. \n",
    "        \n",
    "        names=list(set(self.holdings['Ticker']))\n",
    "        cap_gain_sum = 0\n",
    "        for tick in names:\n",
    "            table_total = self.holdings[(self.holdings['Ticker']==tick)]\n",
    "            table_buy = table_total[table_total['Number']>0]\n",
    "            total_buy = table_buy['Number'].sum()\n",
    "            total_sell = abs(table_total[table_total['Number']<0]['Number'].iloc[-1])\n",
    "            sell_price = table_total[table_total['Number']<0]['Price'].iloc[-1]\n",
    "            len_table = len(table_buy.index)\n",
    "            \n",
    "            # Method: Average\n",
    "            # I compute the average buy prices for each asset by\n",
    "            # summing number*buy_price and dividing by total number bought.\n",
    "            if method == 'Average':\n",
    "                num = 0\n",
    "                for i in range(len_table):\n",
    "                    num += table_buy['Number'].iloc[i]*table_buy['Price'].iloc[i]\n",
    "                    buy_price = num/total_buy\n",
    "                    if (sell_price - buy_price)>0: \n",
    "                        cap_gain = sell_price - buy_price\n",
    "                    else:\n",
    "                        cap_gain = 0 # If the capital gains for an asset are negative, I don't pay taxes for that asset.\n",
    "                        \n",
    "                cap_gain_sum += cap_gain\n",
    "                tax = cap_gain_sum*taxRate\n",
    "            \n",
    "            # Method: FIFO\n",
    "            # I compute the average buy prices for each asset by\n",
    "            # substracting the number of sold assest from the list of bought ones starting from the\n",
    "            # EARLIER ones, and averaging over the remaing. \n",
    "            if method == 'FIFO':\n",
    "                book = pd.DataFrame({'Number':list(table_buy['Number']),'Reduced Number':list(table_buy['Number']),'Price':list(table_buy['Price'])})\n",
    "                N=total_sell\n",
    "                \n",
    "                for j in book.index:\n",
    "                    if book['Reduced Number'][j] < 0:\n",
    "                        book['Reduced Number'][j] =0\n",
    "                        break\n",
    "                        \n",
    "                for i in book.index:\n",
    "                    book['Reduced Number'][i] = book['Number'][i]-N\n",
    "                    N = abs(book['Number'][i]-N)\n",
    "                    if book['Reduced Number'][i] >0:\n",
    "                        break\n",
    "                        \n",
    "                    if  book['Reduced Number'][i] < 0:\n",
    "                        book['Reduced Number'][i] =0 \n",
    "                    \n",
    "                num = 0\n",
    "                total_buy = book['Reduced Number'].sum()\n",
    "                for i in book.index:\n",
    "                    num+= book['Reduced Number'][i]*book['Price'][i]\n",
    "                    buy_price = num/total_buy\n",
    "                    if (sell_price - buy_price)>0:\n",
    "                        cap_gain = sell_price - buy_price\n",
    "                    else:\n",
    "                        cap_gain = 0 # If the capital gains for an asset are negative, I don't pay taxes for that asset.\n",
    "                    \n",
    "                cap_gain_sum += cap_gain\n",
    "                tax = cap_gain_sum*taxRate\n",
    "            \n",
    "            # Method: LIFO\n",
    "            # I compute the average buy prices for each asset by\n",
    "            # substracting the number of sold assest from the list of bought ones starting from the\n",
    "            # LATEST ones, and averaging over the remaing. \n",
    "            if method == 'LIFO':\n",
    "                book = pd.DataFrame({'Number':list(table_buy['Number'])[::-1],'Reduced Number':list(table_buy['Number'])[::-1],'Price':list(table_buy['Price'])[::-1]})\n",
    "                N=total_sell\n",
    "                \n",
    "                for j in book.index:\n",
    "                    if book['Reduced Number'][j] < 0:\n",
    "                        book['Reduced Number'][j] =0\n",
    "                        break\n",
    "                        \n",
    "                for i in book.index:\n",
    "                    book['Reduced Number'][i] = book['Number'][i]-N\n",
    "                    N = abs(book['Number'][i]-N)\n",
    "                    if book['Reduced Number'][i] >0:\n",
    "                        break\n",
    "                        \n",
    "                    if  book['Reduced Number'][i] < 0:\n",
    "                        book['Reduced Number'][i] =0 \n",
    "                    \n",
    "                num = 0\n",
    "                total_buy = book['Reduced Number'].sum()\n",
    "                for i in book.index:\n",
    "                    num+= book['Reduced Number'][i]*book['Price'][i]\n",
    "                    buy_price = num/total_buy\n",
    "                    if (sell_price - buy_price)>0:\n",
    "                        cap_gain = sell_price - buy_price\n",
    "                    else:\n",
    "                        cap_gain = 0 # If the capital gains for an asset are negative, I don't pay taxes for that asset.\n",
    "                    \n",
    "                cap_gain_sum += cap_gain\n",
    "                tax = cap_gain_sum*taxRate\n",
    "\n",
    "                \n",
    "                \n",
    "        return 'Capital gain taxes due are {} at {} tax rate. (Method:{})'.format(round(tax,3),taxRate,method)\n",
    "      "
   ]
  },
  {
   "cell_type": "markdown",
   "metadata": {},
   "source": [
    "# Test"
   ]
  },
  {
   "cell_type": "code",
   "execution_count": 42,
   "metadata": {},
   "outputs": [],
   "source": [
    "port = Portfolio(10000)"
   ]
  },
  {
   "cell_type": "code",
   "execution_count": 43,
   "metadata": {},
   "outputs": [
    {
     "data": {
      "text/plain": [
       "10000"
      ]
     },
     "execution_count": 43,
     "metadata": {},
     "output_type": "execute_result"
    }
   ],
   "source": [
    "port.cash"
   ]
  },
  {
   "cell_type": "code",
   "execution_count": 44,
   "metadata": {},
   "outputs": [
    {
     "data": {
      "text/plain": [
       "'Bought 7 shares of AAPL at price 203 each. You spent 1421. Remaining Cash is 8579.'"
      ]
     },
     "execution_count": 44,
     "metadata": {},
     "output_type": "execute_result"
    }
   ],
   "source": [
    "port.buy('AAPL',7,203)"
   ]
  },
  {
   "cell_type": "code",
   "execution_count": 45,
   "metadata": {},
   "outputs": [
    {
     "data": {
      "text/html": [
       "<div>\n",
       "<style scoped>\n",
       "    .dataframe tbody tr th:only-of-type {\n",
       "        vertical-align: middle;\n",
       "    }\n",
       "\n",
       "    .dataframe tbody tr th {\n",
       "        vertical-align: top;\n",
       "    }\n",
       "\n",
       "    .dataframe thead th {\n",
       "        text-align: right;\n",
       "    }\n",
       "</style>\n",
       "<table border=\"1\" class=\"dataframe\">\n",
       "  <thead>\n",
       "    <tr style=\"text-align: right;\">\n",
       "      <th></th>\n",
       "      <th>Ticker</th>\n",
       "      <th>Number</th>\n",
       "      <th>Price</th>\n",
       "      <th>Date</th>\n",
       "    </tr>\n",
       "  </thead>\n",
       "  <tbody>\n",
       "    <tr>\n",
       "      <th>0</th>\n",
       "      <td>AAPL</td>\n",
       "      <td>7</td>\n",
       "      <td>203</td>\n",
       "      <td>None</td>\n",
       "    </tr>\n",
       "  </tbody>\n",
       "</table>\n",
       "</div>"
      ],
      "text/plain": [
       "  Ticker Number Price  Date\n",
       "0   AAPL      7   203  None"
      ]
     },
     "execution_count": 45,
     "metadata": {},
     "output_type": "execute_result"
    }
   ],
   "source": [
    "port.holdings"
   ]
  },
  {
   "cell_type": "code",
   "execution_count": 46,
   "metadata": {},
   "outputs": [
    {
     "data": {
      "text/plain": [
       "'Bought 3 shares of AAPL at price 212 each. You spent 636. Remaining Cash is 7943.'"
      ]
     },
     "execution_count": 46,
     "metadata": {},
     "output_type": "execute_result"
    }
   ],
   "source": [
    "port.buy('AAPL',3,212)"
   ]
  },
  {
   "cell_type": "code",
   "execution_count": 47,
   "metadata": {},
   "outputs": [
    {
     "data": {
      "text/html": [
       "<div>\n",
       "<style scoped>\n",
       "    .dataframe tbody tr th:only-of-type {\n",
       "        vertical-align: middle;\n",
       "    }\n",
       "\n",
       "    .dataframe tbody tr th {\n",
       "        vertical-align: top;\n",
       "    }\n",
       "\n",
       "    .dataframe thead th {\n",
       "        text-align: right;\n",
       "    }\n",
       "</style>\n",
       "<table border=\"1\" class=\"dataframe\">\n",
       "  <thead>\n",
       "    <tr style=\"text-align: right;\">\n",
       "      <th></th>\n",
       "      <th>Ticker</th>\n",
       "      <th>Number</th>\n",
       "      <th>Price</th>\n",
       "      <th>Date</th>\n",
       "    </tr>\n",
       "  </thead>\n",
       "  <tbody>\n",
       "    <tr>\n",
       "      <th>0</th>\n",
       "      <td>AAPL</td>\n",
       "      <td>7</td>\n",
       "      <td>203</td>\n",
       "      <td>None</td>\n",
       "    </tr>\n",
       "    <tr>\n",
       "      <th>1</th>\n",
       "      <td>AAPL</td>\n",
       "      <td>3</td>\n",
       "      <td>212</td>\n",
       "      <td>None</td>\n",
       "    </tr>\n",
       "  </tbody>\n",
       "</table>\n",
       "</div>"
      ],
      "text/plain": [
       "  Ticker Number Price  Date\n",
       "0   AAPL      7   203  None\n",
       "1   AAPL      3   212  None"
      ]
     },
     "execution_count": 47,
     "metadata": {},
     "output_type": "execute_result"
    }
   ],
   "source": [
    "port.holdings"
   ]
  },
  {
   "cell_type": "code",
   "execution_count": 48,
   "metadata": {},
   "outputs": [
    {
     "data": {
      "text/plain": [
       "7943"
      ]
     },
     "execution_count": 48,
     "metadata": {},
     "output_type": "execute_result"
    }
   ],
   "source": [
    "port.cash"
   ]
  },
  {
   "cell_type": "code",
   "execution_count": 49,
   "metadata": {},
   "outputs": [
    {
     "data": {
      "text/plain": [
       "'Bought 15 shares of SHOP at price 388 each. You spent 5820. Remaining Cash is 2123.'"
      ]
     },
     "execution_count": 49,
     "metadata": {},
     "output_type": "execute_result"
    }
   ],
   "source": [
    "port.buy('SHOP',15,388)"
   ]
  },
  {
   "cell_type": "code",
   "execution_count": 50,
   "metadata": {},
   "outputs": [
    {
     "data": {
      "text/plain": [
       "'NAV at date 2019-08-20 is 394.046 per share.'"
      ]
     },
     "execution_count": 50,
     "metadata": {},
     "output_type": "execute_result"
    }
   ],
   "source": [
    "port.nav('2019-08-20')"
   ]
  },
  {
   "cell_type": "code",
   "execution_count": 51,
   "metadata": {},
   "outputs": [
    {
     "data": {
      "text/plain": [
       "'Sold 8 shares of AAPL at price 214 each. You gained 1712. Remaining Cash is 3835.'"
      ]
     },
     "execution_count": 51,
     "metadata": {},
     "output_type": "execute_result"
    }
   ],
   "source": [
    "port.sell('AAPL',8,214)"
   ]
  },
  {
   "cell_type": "code",
   "execution_count": 52,
   "metadata": {},
   "outputs": [
    {
     "data": {
      "text/html": [
       "<div>\n",
       "<style scoped>\n",
       "    .dataframe tbody tr th:only-of-type {\n",
       "        vertical-align: middle;\n",
       "    }\n",
       "\n",
       "    .dataframe tbody tr th {\n",
       "        vertical-align: top;\n",
       "    }\n",
       "\n",
       "    .dataframe thead th {\n",
       "        text-align: right;\n",
       "    }\n",
       "</style>\n",
       "<table border=\"1\" class=\"dataframe\">\n",
       "  <thead>\n",
       "    <tr style=\"text-align: right;\">\n",
       "      <th></th>\n",
       "      <th>Ticker</th>\n",
       "      <th>Number</th>\n",
       "      <th>Price</th>\n",
       "      <th>Date</th>\n",
       "    </tr>\n",
       "  </thead>\n",
       "  <tbody>\n",
       "    <tr>\n",
       "      <th>0</th>\n",
       "      <td>AAPL</td>\n",
       "      <td>7</td>\n",
       "      <td>203</td>\n",
       "      <td>None</td>\n",
       "    </tr>\n",
       "    <tr>\n",
       "      <th>1</th>\n",
       "      <td>AAPL</td>\n",
       "      <td>3</td>\n",
       "      <td>212</td>\n",
       "      <td>None</td>\n",
       "    </tr>\n",
       "    <tr>\n",
       "      <th>2</th>\n",
       "      <td>SHOP</td>\n",
       "      <td>15</td>\n",
       "      <td>388</td>\n",
       "      <td>None</td>\n",
       "    </tr>\n",
       "    <tr>\n",
       "      <th>3</th>\n",
       "      <td>AAPL</td>\n",
       "      <td>-8</td>\n",
       "      <td>214</td>\n",
       "      <td>None</td>\n",
       "    </tr>\n",
       "  </tbody>\n",
       "</table>\n",
       "</div>"
      ],
      "text/plain": [
       "  Ticker Number Price  Date\n",
       "0   AAPL      7   203  None\n",
       "1   AAPL      3   212  None\n",
       "2   SHOP     15   388  None\n",
       "3   AAPL     -8   214  None"
      ]
     },
     "execution_count": 52,
     "metadata": {},
     "output_type": "execute_result"
    }
   ],
   "source": [
    "port.holdings"
   ]
  },
  {
   "cell_type": "code",
   "execution_count": 53,
   "metadata": {},
   "outputs": [
    {
     "data": {
      "text/plain": [
       "'Sold 5 shares of SHOP at price 385 each. You gained 1925. Remaining Cash is 5760.'"
      ]
     },
     "execution_count": 53,
     "metadata": {},
     "output_type": "execute_result"
    }
   ],
   "source": [
    "port.sell('SHOP',5,385)"
   ]
  },
  {
   "cell_type": "code",
   "execution_count": 54,
   "metadata": {
    "scrolled": true
   },
   "outputs": [
    {
     "data": {
      "text/html": [
       "<div>\n",
       "<style scoped>\n",
       "    .dataframe tbody tr th:only-of-type {\n",
       "        vertical-align: middle;\n",
       "    }\n",
       "\n",
       "    .dataframe tbody tr th {\n",
       "        vertical-align: top;\n",
       "    }\n",
       "\n",
       "    .dataframe thead th {\n",
       "        text-align: right;\n",
       "    }\n",
       "</style>\n",
       "<table border=\"1\" class=\"dataframe\">\n",
       "  <thead>\n",
       "    <tr style=\"text-align: right;\">\n",
       "      <th></th>\n",
       "      <th>Ticker</th>\n",
       "      <th>Number</th>\n",
       "      <th>Price</th>\n",
       "      <th>Date</th>\n",
       "    </tr>\n",
       "  </thead>\n",
       "  <tbody>\n",
       "    <tr>\n",
       "      <th>0</th>\n",
       "      <td>AAPL</td>\n",
       "      <td>7</td>\n",
       "      <td>203</td>\n",
       "      <td>None</td>\n",
       "    </tr>\n",
       "    <tr>\n",
       "      <th>1</th>\n",
       "      <td>AAPL</td>\n",
       "      <td>3</td>\n",
       "      <td>212</td>\n",
       "      <td>None</td>\n",
       "    </tr>\n",
       "    <tr>\n",
       "      <th>2</th>\n",
       "      <td>SHOP</td>\n",
       "      <td>15</td>\n",
       "      <td>388</td>\n",
       "      <td>None</td>\n",
       "    </tr>\n",
       "    <tr>\n",
       "      <th>3</th>\n",
       "      <td>AAPL</td>\n",
       "      <td>-8</td>\n",
       "      <td>214</td>\n",
       "      <td>None</td>\n",
       "    </tr>\n",
       "    <tr>\n",
       "      <th>4</th>\n",
       "      <td>SHOP</td>\n",
       "      <td>-5</td>\n",
       "      <td>385</td>\n",
       "      <td>None</td>\n",
       "    </tr>\n",
       "  </tbody>\n",
       "</table>\n",
       "</div>"
      ],
      "text/plain": [
       "  Ticker Number Price  Date\n",
       "0   AAPL      7   203  None\n",
       "1   AAPL      3   212  None\n",
       "2   SHOP     15   388  None\n",
       "3   AAPL     -8   214  None\n",
       "4   SHOP     -5   385  None"
      ]
     },
     "execution_count": 54,
     "metadata": {},
     "output_type": "execute_result"
    }
   ],
   "source": [
    "port.holdings"
   ]
  },
  {
   "cell_type": "code",
   "execution_count": 55,
   "metadata": {},
   "outputs": [
    {
     "data": {
      "text/plain": [
       "'NAV at date 2019-08-20 is 827.535 per share.'"
      ]
     },
     "execution_count": 55,
     "metadata": {},
     "output_type": "execute_result"
    }
   ],
   "source": [
    "port.nav('2019-08-20')"
   ]
  },
  {
   "cell_type": "code",
   "execution_count": 56,
   "metadata": {},
   "outputs": [
    {
     "data": {
      "text/plain": [
       "'Capital gain taxes due are 0.83 at 0.1 tax rate. (Method:Average)'"
      ]
     },
     "execution_count": 56,
     "metadata": {},
     "output_type": "execute_result"
    }
   ],
   "source": [
    "port.capitalGainsTax(0.1,method = 'Average')"
   ]
  },
  {
   "cell_type": "code",
   "execution_count": 57,
   "metadata": {},
   "outputs": [
    {
     "data": {
      "text/plain": [
       "'Capital gain taxes due are 0.2 at 0.1 tax rate. (Method:FIFO)'"
      ]
     },
     "execution_count": 57,
     "metadata": {},
     "output_type": "execute_result"
    }
   ],
   "source": [
    "port.capitalGainsTax(0.1,'FIFO')"
   ]
  },
  {
   "cell_type": "code",
   "execution_count": 58,
   "metadata": {},
   "outputs": [
    {
     "data": {
      "text/plain": [
       "'Capital gain taxes due are 1.1 at 0.1 tax rate. (Method:LIFO)'"
      ]
     },
     "execution_count": 58,
     "metadata": {},
     "output_type": "execute_result"
    }
   ],
   "source": [
    "port.capitalGainsTax(0.1,'LIFO')"
   ]
  },
  {
   "cell_type": "code",
   "execution_count": null,
   "metadata": {},
   "outputs": [],
   "source": []
  },
  {
   "cell_type": "code",
   "execution_count": null,
   "metadata": {},
   "outputs": [],
   "source": []
  }
 ],
 "metadata": {
  "kernelspec": {
   "display_name": "Python 3",
   "language": "python",
   "name": "python3"
  },
  "language_info": {
   "codemirror_mode": {
    "name": "ipython",
    "version": 3
   },
   "file_extension": ".py",
   "mimetype": "text/x-python",
   "name": "python",
   "nbconvert_exporter": "python",
   "pygments_lexer": "ipython3",
   "version": "3.6.8"
  }
 },
 "nbformat": 4,
 "nbformat_minor": 2
}
